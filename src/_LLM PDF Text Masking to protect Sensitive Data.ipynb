{
 "cells": [
  {
   "cell_type": "code",
   "execution_count": 31,
   "id": "6311951f-5a7d-4a44-9e8e-2aaf90df8700",
   "metadata": {},
   "outputs": [],
   "source": [
    "import pandas as pd\n",
    "import warnings\n",
    "import os\n",
    "from dotenv import load_dotenv,find_dotenv\n",
    "import google.generativeai as genai\n",
    "import getpass"
   ]
  },
  {
   "cell_type": "code",
   "execution_count": 32,
   "id": "267938d3-4de9-4afe-9ec6-74d5cef42c3e",
   "metadata": {},
   "outputs": [
    {
     "name": "stdin",
     "output_type": "stream",
     "text": [
      "Enter your Google Gemini API key:  ········\n"
     ]
    },
    {
     "name": "stdout",
     "output_type": "stream",
     "text": [
      "Using MODEL=gemini-1.5-flash\n"
     ]
    }
   ],
   "source": [
    "# Set the API key and Gemini model name directly in the code\n",
    "\n",
    "model_name = \"gemini-1.5-flash\"\n",
    "api_key = getpass.getpass(\"Enter your Google Gemini API key: \")\n",
    "# Ensure the API key is set\n",
    "if not api_key:\n",
    "    raise ValueError(\"API_KEY must be set.\")\n",
    "\n",
    "# Configure the generative AI client\n",
    "genai.configure(api_key=api_key)\n",
    "\n",
    "print(f\"Using MODEL={model_name}\")\n"
   ]
  },
  {
   "cell_type": "code",
   "execution_count": 33,
   "id": "148e1cc7-ca9b-4a59-b84a-c094659b8210",
   "metadata": {},
   "outputs": [],
   "source": [
    "import PyPDF2\n",
    "def extract_text_from_pdf(pdf_path):\n",
    "    with open(pdf_path, 'rb') as file:\n",
    "        reader = PyPDF2.PdfReader(file)\n",
    "        text = ''\n",
    "        for page in reader.pages:\n",
    "            text += page.extract_text()\n",
    "    return text\n",
    "\n",
    "# Example usage\n",
    "pdf_path = r'C:\\Users\\pavan\\OneDrive\\Desktop\\PAVAN SOMISETTY.pdf'#path to your document\n",
    "document = extract_text_from_pdf(pdf_path)"
   ]
  },
  {
   "cell_type": "code",
   "execution_count": 34,
   "id": "30794fd9-0c44-4019-bbe7-e67de187cf92",
   "metadata": {},
   "outputs": [
    {
     "name": "stdout",
     "output_type": "stream",
     "text": [
      "[MASK]\n",
      "•[MASK]•[MASK]•[MASK]•[MASK]\n",
      "EDUCATION\n",
      "Master’s degree in Computer Applications 2022-2024\n",
      "Vignan’s Lara Institute of Technology and Science Percentage-75%\n",
      "Bachelor of Science (MPCs) 2019-2022\n",
      "Karthikeya Degree College Percentage-85%\n",
      "Board of Intermediate Education 2017-2019\n",
      "Sri Subbaraya & Narayana Jr College Percentage-89%\n",
      "WORK EXPERIENCE\n",
      "Java Developer Intern | CODEALPHA 02/2024-02/2024\n",
      "In this internship, completed complex tasks provided by the company, resulting in improvement\n",
      "of Java skills.\n",
      "Java Programmer Intern | OCTANET SERVICES PVT LTD 01/2024-01/2024\n",
      "In this internship, completed tasks involved creating the ATM interface provided by the company.\n",
      "It helps to improve my Java skills and learns about Corporate work.\n",
      "SKILLS\n",
      "C|Java|Python|JDBC|Oracle database|HTML|Numpy|Pandas|Jupyter Notebook|\n",
      "Machine Learning|Promptify|Transformer|Large Language Models|Prompt Engineering\n",
      "|NLP\n",
      "PROJECTS\n",
      "A FINE-TUNED MODEL FOR AUTOMATIC QUESTION-ANSWER PAIR GENERATION USING LLM’S\n",
      "This project aims to generate QA pairs from paragraphs by using a fine-tuned model of GPT.\n",
      "Using Promptify tool and OpenAI API key we generate QA pairs from the Paragraphs.\n",
      "We also generate QA pairs using Gemini (BARD) with good prompt engineering, our projects\n",
      "will accept the input as pdf also.\n",
      "Tech Stack used: Python, Jupyter Notebook, Promptify.\n",
      "Banking System || GitHub 05/2023-05/2023\n",
      "This project aims to make an online banking system as it stored all the information of Account\n",
      "Holder like account number, name, Aadhaar number and Mobile number etc..\n",
      "Verified system reliability with successful testing on 60+ members.\n",
      "Tech Stack used: Java, JDBC, Oracle Database.\n",
      "Student Registration Form || GitHub 02/2023-02/2023\n",
      "In this, we aim to collect basic information about a student in order to enroll in a course\n",
      "Stores data using SQL and Validated system reliability with successful testing on 50+ students.\n",
      "Tech Stack used: Java, JDBC, Oracle Database.\n",
      "ACHIEVEMENTS\n",
      "Achieved Badge on Transformer Models and BERT Model from Google cloud.\n",
      "Certification on Oracle Certified Foundations Associate from Oracle Corporation.\n",
      "Certificate of Excellence in Databases for Developers: Foundations from Oracle DevGym.\n",
      "Participated in Quantathon and Reverse Coding X by IIT Madras as part of Shaastra.\n",
      "Secured certification on Python Essentials 1 course provided by Cisco Networking Academy.\n",
      "SOFT SKILLS\n",
      "Quick Learner, Work Ethic, Collaboration, Adaptability, Team Work \n",
      "\n"
     ]
    }
   ],
   "source": [
    "import google.generativeai as gemini\n",
    "\n",
    "def mask_unwanted_text_gemini(document, mask_token=\"[MASK]\"):\n",
    "    # Set up the prompt for the Gemini model\n",
    "   \n",
    "     response = model.generate_content(f\"Please mask any sensitive information like name, phone numbers, email addresses, or credit card numbers in the following text, replacing them with '{mask_token}':\\n\\n{document}\")\n",
    "  \n",
    "    # Return the masked document\n",
    "     return response.text\n",
    "\n",
    "\n",
    "masked_document = mask_unwanted_text_gemini(document)\n",
    "print(masked_document)\n"
   ]
  },
  {
   "cell_type": "code",
   "execution_count": null,
   "id": "6cf60720-3076-4af5-87d8-fa3f45fe4d70",
   "metadata": {},
   "outputs": [],
   "source": []
  }
 ],
 "metadata": {
  "kernelspec": {
   "display_name": "Python 3 (ipykernel)",
   "language": "python",
   "name": "python3"
  },
  "language_info": {
   "codemirror_mode": {
    "name": "ipython",
    "version": 3
   },
   "file_extension": ".py",
   "mimetype": "text/x-python",
   "name": "python",
   "nbconvert_exporter": "python",
   "pygments_lexer": "ipython3",
   "version": "3.11.9"
  }
 },
 "nbformat": 4,
 "nbformat_minor": 5
}
