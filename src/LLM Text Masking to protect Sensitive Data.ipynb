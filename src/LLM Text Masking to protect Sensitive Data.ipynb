{
 "cells": [
  {
   "cell_type": "code",
   "execution_count": 3,
   "id": "6311951f-5a7d-4a44-9e8e-2aaf90df8700",
   "metadata": {},
   "outputs": [],
   "source": [
    "import pandas as pd\n",
    "import warnings\n",
    "import os\n",
    "from dotenv import load_dotenv,find_dotenv\n",
    "import google.generativeai as genai\n",
    "import getpass"
   ]
  },
  {
   "cell_type": "code",
   "execution_count": 5,
   "id": "267938d3-4de9-4afe-9ec6-74d5cef42c3e",
   "metadata": {},
   "outputs": [
    {
     "name": "stdin",
     "output_type": "stream",
     "text": [
      "Enter your Google Gemini API key:  ········\n"
     ]
    },
    {
     "name": "stdout",
     "output_type": "stream",
     "text": [
      "Using MODEL=gemini-1.5-flash\n"
     ]
    }
   ],
   "source": [
    "# Set the API key and Gemini model name directly in the code\n",
    "\n",
    "model_name = \"gemini-1.5-flash\"\n",
    "api_key = getpass.getpass(\"Enter your Google Gemini API key: \")\n",
    "# Ensure the API key is set\n",
    "if not api_key:\n",
    "    raise ValueError(\"API_KEY must be set.\")\n",
    "\n",
    "# Configure the generative AI client\n",
    "genai.configure(api_key=api_key)\n",
    "\n",
    "print(f\"Using MODEL={model_name}\")\n"
   ]
  },
  {
   "cell_type": "code",
   "execution_count": 6,
   "id": "e063882c-8a36-47dc-a1af-86ead88120c7",
   "metadata": {},
   "outputs": [],
   "source": [
    "# Sample unstructured document\n",
    "document = \"\"\"\n",
    "Dear Pavan Somisetty,\n",
    "\n",
    "Your social security number is 123-45-6789. Please keep it safe.\n",
    "\n",
    "Also, note that your appointment with manager is scheduled for tomorrow at 10 AM.\n",
    "\n",
    "Best regards,\n",
    "Pavan Somisetty\n",
    "\"\"\""
   ]
  },
  {
   "cell_type": "code",
   "execution_count": 14,
   "id": "30794fd9-0c44-4019-bbe7-e67de187cf92",
   "metadata": {},
   "outputs": [
    {
     "name": "stdout",
     "output_type": "stream",
     "text": [
      "Dear [MASK],\n",
      "\n",
      "Your social security number is [MASK]. Please keep it safe.\n",
      "\n",
      "Also, note that your appointment with manager is scheduled for tomorrow at 10 AM.\n",
      "\n",
      "Best regards,\n",
      "[MASK] \n",
      "\n"
     ]
    }
   ],
   "source": [
    "import google.generativeai as gemini\n",
    "\n",
    "def mask_unwanted_text_gemini(document, mask_token=\"[MASK]\"):\n",
    "    # Set up the prompt for the Gemini model\n",
    "   \n",
    "     response = model.generate_content(f\"Please mask any sensitive information like name, phone numbers, email addresses, or credit card numbers in the following text, replacing them with '{mask_token}':\\n\\n{document}\")\n",
    "  \n",
    "    # Return the masked document\n",
    "     return response.text\n",
    "\n",
    "\n",
    "masked_document = mask_unwanted_text_gemini(document)\n",
    "print(masked_document)\n"
   ]
  }
 ],
 "metadata": {
  "kernelspec": {
   "display_name": "Python 3 (ipykernel)",
   "language": "python",
   "name": "python3"
  },
  "language_info": {
   "codemirror_mode": {
    "name": "ipython",
    "version": 3
   },
   "file_extension": ".py",
   "mimetype": "text/x-python",
   "name": "python",
   "nbconvert_exporter": "python",
   "pygments_lexer": "ipython3",
   "version": "3.11.9"
  }
 },
 "nbformat": 4,
 "nbformat_minor": 5
}
